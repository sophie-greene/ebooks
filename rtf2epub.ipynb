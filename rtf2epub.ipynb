{
 "cells": [
  {
   "cell_type": "code",
   "execution_count": null,
   "metadata": {
    "collapsed": false
   },
   "outputs": [],
   "source": [
    "from ebooklib import utils\n",
    "import os\n",
    "from multiprocessing import Pool\n",
    "import time\n",
    "from bs4 import BeautifulSoup\n",
    "import urllib2\n",
    "import string"
   ]
  },
  {
   "cell_type": "markdown",
   "metadata": {},
   "source": [
    "## deals with doc, docx,rtf"
   ]
  },
  {
   "cell_type": "code",
   "execution_count": 105,
   "metadata": {
    "collapsed": false
   },
   "outputs": [
    {
     "data": {
      "text/plain": [
       "0"
      ]
     },
     "execution_count": 105,
     "metadata": {},
     "output_type": "execute_result"
    }
   ],
   "source": [
    "d=\"/media/some/sophie-hhd/books/\"\n",
    "ls=!find $d -type f -iname \"*.docx\" -o -iname \"*.doc\" -o -iname \"*.rtf\"\n",
    "len(ls)\n"
   ]
  },
  {
   "cell_type": "code",
   "execution_count": 102,
   "metadata": {
    "collapsed": false
   },
   "outputs": [],
   "source": [
    "\n",
    "def docx(f):\n",
    "    document = Document(f)\n",
    "    if len(document.paragraphs)>0:\n",
    "        return '\\n'.join(''.join(str(d) for d in dd.text if d in string.printable[:-3]) for dd in document.paragraphs)\n",
    "    else:\n",
    "        return ''\n",
    "\n",
    "def doc(filename,ff):\n",
    "    d,f=os.path.split(filename)\n",
    "    if os.path.exists(filename):\n",
    "        if filename[-1].lower() == \"x\":\n",
    "            txtc=docx(filename)\n",
    "                   \n",
    "        else:\n",
    "            txt= !catdoc \"$filename\"\n",
    "            txtc='\\n'.join(''.join(str(t) for t in tt if t in string.printable[:-3])for tt in txt )\n",
    "        if len(txtc)>500:\n",
    "            open(ff,'w').write(txtc)\n",
    "            return True\n",
    "        else:\n",
    "            return False\n",
    "    else:\n",
    "        return False\n",
    "    "
   ]
  },
  {
   "cell_type": "code",
   "execution_count": 103,
   "metadata": {
    "collapsed": false,
    "scrolled": true
   },
   "outputs": [],
   "source": [
    "def mvht(l):\n",
    "    ddir=\"/media/some/sophie-hhd/books/rtf/\"\n",
    "    m,f=os.path.split(l)\n",
    "    if l[-1].lower()==\"x\":\n",
    "        n=-4\n",
    "    else:\n",
    "        n=-3\n",
    "    ff=ddir+f[:n]+\"epub\"\n",
    "    fh=ddir+f[:n]+\"txt\"\n",
    "    fe=m+\"/\"+f[:n]+\"epub\"\n",
    "    tmp=\"/tmp/\"+f[:n]+\"epub\"\n",
    "    tmpl=\"/tmp/\"+f[:n]+\"txt\"\n",
    "    if doc(l,tmpl):\n",
    "        if os.path.exists(tmpl):\n",
    "            !mv \"$tmpl\" \"$fh\"\n",
    "        if not os.path.exists(ff) and not os.path.exists(fe): \n",
    "            try:\n",
    "                !ebook-convert \"$tmpl\" \"$tmp\" >/dev/null\n",
    "                if os.path.exists(tmp):\n",
    "                    !mv \"$tmp\" \"$ff\"\n",
    "            except:\n",
    "                print \"faulty   \",l\n",
    "                os.remove(l)\n",
    "        print fh\n",
    "    else:\n",
    "        print \"error\",l\n",
    "    os.remove(l)\n",
    " "
   ]
  },
  {
   "cell_type": "code",
   "execution_count": 104,
   "metadata": {
    "collapsed": false
   },
   "outputs": [
    {
     "name": "stdout",
     "output_type": "stream",
     "text": [
      "/media/some/sophie-hhd/books/rtf/Leigh, Lora - Amelia’s Journey.txt\n"
     ]
    }
   ],
   "source": [
    "mvht(ls[0])"
   ]
  },
  {
   "cell_type": "code",
   "execution_count": 68,
   "metadata": {
    "collapsed": false
   },
   "outputs": [
    {
     "data": {
      "text/plain": [
       "0"
      ]
     },
     "execution_count": 68,
     "metadata": {},
     "output_type": "execute_result"
    }
   ],
   "source": []
  },
  {
   "cell_type": "code",
   "execution_count": null,
   "metadata": {
    "collapsed": false,
    "scrolled": true
   },
   "outputs": [],
   "source": [
    "t0 = time.time()\n",
    "p = Pool(8)\n",
    "p.map(mvht, ls)\n",
    "p.terminate()\n",
    "p.close()\n",
    "t1 = time.time()\n",
    "total = t1-t0\n",
    "print('time: ',total)"
   ]
  },
  {
   "cell_type": "code",
   "execution_count": null,
   "metadata": {
    "collapsed": false
   },
   "outputs": [],
   "source": [
    "os.path.split(ls[147])"
   ]
  },
  {
   "cell_type": "code",
   "execution_count": null,
   "metadata": {
    "collapsed": false
   },
   "outputs": [],
   "source": [
    "ls[0]"
   ]
  },
  {
   "cell_type": "code",
   "execution_count": null,
   "metadata": {
    "collapsed": false
   },
   "outputs": [],
   "source": [
    "mvht(ls[1])"
   ]
  },
  {
   "cell_type": "code",
   "execution_count": null,
   "metadata": {
    "collapsed": true
   },
   "outputs": [],
   "source": [
    "import zipfile, re\n",
    "\n",
    "docx = zipfile.ZipFile('/path/to/file/mydocument.docx')\n",
    "content = docx.read('word/document.xml')\n",
    "cleaned = re.sub('<(.|\\n)*?>','',content)\n",
    "print cleaned"
   ]
  }
 ],
 "metadata": {
  "kernelspec": {
   "display_name": "Python 2",
   "language": "python",
   "name": "python2"
  },
  "language_info": {
   "codemirror_mode": {
    "name": "ipython",
    "version": 2
   },
   "file_extension": ".py",
   "mimetype": "text/x-python",
   "name": "python",
   "nbconvert_exporter": "python",
   "pygments_lexer": "ipython2",
   "version": "2.7.10"
  }
 },
 "nbformat": 4,
 "nbformat_minor": 0
}
