{
 "cells": [
  {
   "cell_type": "code",
   "execution_count": 1,
   "metadata": {
    "collapsed": false
   },
   "outputs": [],
   "source": [
    "from ebooklib import epub\n",
    "import os\n",
    "from multiprocessing import Pool\n",
    "import time\n",
    "from bs4 import BeautifulSoup\n",
    "import urllib2\n",
    "import string"
   ]
  },
  {
   "cell_type": "code",
   "execution_count": null,
   "metadata": {
    "collapsed": false
   },
   "outputs": [],
   "source": [
    "d=\"/media/some/sophie-hhd/books/\"\n",
    "ls=!find $d -type f -iname \"*.html\" -o -iname \"*.htm\" -o -iname \"*.xhtml\" -o -iname \"*.xhtm\" \n",
    "len(ls)\n",
    "ls"
   ]
  },
  {
   "cell_type": "code",
   "execution_count": null,
   "metadata": {
    "collapsed": false
   },
   "outputs": [],
   "source": [
    "#remove html tags from string html     \n",
    "def html2txt(html,ff):\n",
    "    \n",
    "    soup = BeautifulSoup(open(html).read(),\"lxml\")\n",
    "    txt = soup.get_text()\n",
    "    #print type(txt)\n",
    "    m,f=os.path.split(html)\n",
    "    open(ff,\"w\").write(\"\".join(str(t) for t in txt if t in string.printable[:-3]))\n",
    "    return ff"
   ]
  },
  {
   "cell_type": "code",
   "execution_count": null,
   "metadata": {
    "collapsed": true
   },
   "outputs": [],
   "source": [
    "#remove html tags from string html     \n",
    "def txt(inp):\n",
    "    d,f=os.path.split(inp)\n",
    "    ff=\"/tmp/\"+f    \n",
    "    txt=open(inp).read()\n",
    "    open(ff,\"w\").write(\"\".join(str(t) for t in txt if t in string.printable[:-3]))\n",
    "    return ff"
   ]
  },
  {
   "cell_type": "code",
   "execution_count": null,
   "metadata": {
    "collapsed": false,
    "scrolled": true
   },
   "outputs": [],
   "source": [
    "def mvht(l):\n",
    "    ddir=\"/media/some/sophie-hhd/books/htm2epub/\"\n",
    "    m,f=os.path.split(l)\n",
    "    if f[-1] == 'l':\n",
    "        n=-4\n",
    "    else:\n",
    "        n=-3\n",
    "    ff=ddir+f[:n]+\"epub\"\n",
    "    fh=ddir+f[:n]+\"txt\"\n",
    "    fe=m+\"/\"+f[:n]+\"epub\"\n",
    "    tmp=\"/tmp/\"+f[:n]+\"epub\"\n",
    "    tmpl=\"/tmp/\"+f[:n]+\"txt\"\n",
    "    try:\n",
    "        html2txt(l,tmpl)\n",
    "        #os.remove(l)\n",
    "    except:\n",
    "        print \"file doesnt exist\",l\n",
    "    !mv \"$tmpl\" \"$fh\"\n",
    "    if not os.path.exists(ff) and not os.path.exists(fe):\n",
    "        try:\n",
    "            !ebook-convert \"$tmpl\" \"$tmp\" >/dev/null\n",
    "            if os.path.exists(tmp):\n",
    "                !mv \"$tmp\" \"$ff\"\n",
    "        except:\n",
    "            print \"faulty   \",l\n",
    "            \n",
    "    print fh\n",
    " "
   ]
  },
  {
   "cell_type": "code",
   "execution_count": null,
   "metadata": {
    "collapsed": false,
    "scrolled": true
   },
   "outputs": [],
   "source": [
    "mvht(ls[0])"
   ]
  },
  {
   "cell_type": "code",
   "execution_count": null,
   "metadata": {
    "collapsed": false,
    "scrolled": false
   },
   "outputs": [],
   "source": [
    "t0 = time.time()\n",
    "p = Pool(4)\n",
    "p.map(mvht, ls)\n",
    "p.terminate()\n",
    "p.close()\n",
    "t1 = time.time()\n",
    "total = t1-t0\n",
    "print('time: ',total)"
   ]
  },
  {
   "cell_type": "code",
   "execution_count": 2,
   "metadata": {
    "collapsed": false
   },
   "outputs": [
    {
     "data": {
      "text/plain": [
       "6531"
      ]
     },
     "execution_count": 2,
     "metadata": {},
     "output_type": "execute_result"
    }
   ],
   "source": [
    "#verify epubs\n",
    "d=\"/media/some/sophie-hhd/books/thrill/\"\n",
    "lst=! find \"$d\" -type f -iname \"*.epub\"\n",
    "len(lst)"
   ]
  },
  {
   "cell_type": "code",
   "execution_count": 4,
   "metadata": {
    "collapsed": false
   },
   "outputs": [],
   "source": [
    "def verifye(f):\n",
    "    m,ff=os.path.split(f)\n",
    "    try:\n",
    "        if os.path.exists(f):  \n",
    "            book=epub.read_epub(f)\n",
    "            os.remove(f)\n",
    "            epub.write_epub(f,book)\n",
    "            return (f,\"OK\")\n",
    "        else:\n",
    "            return (f,\"DOESNT EXIST\")\n",
    "            #print \"file  ...\" ,ff,\" ...... verified\"\n",
    "    except:\n",
    "        #print \"file corrupt ...\" ,ff,\" ...... deleting\"\n",
    "        #os.remove(f)\n",
    "        return (f,\"NOT OK\")"
   ]
  },
  {
   "cell_type": "code",
   "execution_count": 5,
   "metadata": {
    "collapsed": false
   },
   "outputs": [
    {
     "name": "stdout",
     "output_type": "stream",
     "text": [
      "('/media/some/sophie-hhd/books/thrill/great hunt, The - Robert Jordan.epub', 'OK')\n"
     ]
    }
   ],
   "source": [
    "print verifye(lst[0])\n"
   ]
  },
  {
   "cell_type": "code",
   "execution_count": null,
   "metadata": {
    "collapsed": false,
    "scrolled": false
   },
   "outputs": [
    {
     "name": "stderr",
     "output_type": "stream",
     "text": [
      "/usr/local/lib/python2.7/dist-packages/ebooklib/epub.py:848: UserWarning: Duplicate name: 'EPUB/Images/cover0001.jpg'\n",
      "  self.out.writestr('%s/%s' % (self.book.FOLDER_NAME, item.file_name), item.get_content())\n"
     ]
    }
   ],
   "source": [
    "t0 = time.time()\n",
    "p = Pool(20)\n",
    "m=map(verifye, lst)\n",
    "p.terminate()\n",
    "p.close()\n",
    "t1 = time.time()\n",
    "total = t1-t0\n",
    "print('time: ',total)"
   ]
  },
  {
   "cell_type": "code",
   "execution_count": 176,
   "metadata": {
    "collapsed": false,
    "scrolled": false
   },
   "outputs": [
    {
     "data": {
      "text/plain": [
       "505"
      ]
     },
     "execution_count": 176,
     "metadata": {},
     "output_type": "execute_result"
    }
   ],
   "source": [
    "cnt=0\n",
    "for l in m:\n",
    "    if l != None and l[1] ==\"NOT OK\":\n",
    "        cnt+=1\n",
    "        #os.remove(l[0])\n",
    "cnt"
   ]
  },
  {
   "cell_type": "code",
   "execution_count": 177,
   "metadata": {
    "collapsed": false
   },
   "outputs": [
    {
     "data": {
      "text/plain": [
       "33828"
      ]
     },
     "execution_count": 177,
     "metadata": {},
     "output_type": "execute_result"
    }
   ],
   "source": [
    "len(m)"
   ]
  },
  {
   "cell_type": "code",
   "execution_count": null,
   "metadata": {
    "collapsed": true
   },
   "outputs": [],
   "source": []
  }
 ],
 "metadata": {
  "kernelspec": {
   "display_name": "Python 2",
   "language": "python",
   "name": "python2"
  },
  "language_info": {
   "codemirror_mode": {
    "name": "ipython",
    "version": 2
   },
   "file_extension": ".py",
   "mimetype": "text/x-python",
   "name": "python",
   "nbconvert_exporter": "python",
   "pygments_lexer": "ipython2",
   "version": "2.7.10"
  }
 },
 "nbformat": 4,
 "nbformat_minor": 0
}
