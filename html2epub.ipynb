{
 "cells": [
  {
   "cell_type": "code",
   "execution_count": 30,
   "metadata": {
    "collapsed": false
   },
   "outputs": [],
   "source": [
    "from ebooklib import utils\n",
    "import os\n",
    "from multiprocessing import Pool\n",
    "import time\n",
    "from bs4 import BeautifulSoup"
   ]
  },
  {
   "cell_type": "code",
   "execution_count": 27,
   "metadata": {
    "collapsed": false
   },
   "outputs": [],
   "source": [
    "d=\"/media/some/sophie-hhd/books/thrill/\"\n",
    "ls=!find $d -iname *.htm\n",
    "lst=!ls $d*.htm*\n",
    "len(ls),len(lst)\n",
    "ffil=!find /media/some/sophie-hhd/books/htm2epub/ -iname *.html"
   ]
  },
  {
   "cell_type": "code",
   "execution_count": 31,
   "metadata": {
    "collapsed": true
   },
   "outputs": [],
   "source": [
    "#remove html tags from string html     \n",
    "def html2txt(html):\n",
    "    soup = BeautifulSoup(html,\"lxml\")\n",
    "    return soup.get_text()"
   ]
  },
  {
   "cell_type": "code",
   "execution_count": 23,
   "metadata": {
    "collapsed": false,
    "scrolled": true
   },
   "outputs": [],
   "source": [
    "def mvht(l):\n",
    "    ddir=\"/media/some/sophie-hhd/books/htm2epub/\"\n",
    "    m,f=os.path.split(l)\n",
    "    ff=ddir+f[:-3]+\"epub\"\n",
    "    fh=ddir+f\n",
    "    fe=m+\"/\"+f[:-3]+\"epub\"\n",
    "    if not os.path.exists(ff) and not os.path.exists(fe):\n",
    "        tmp=\"/tmp/\"+f[:-3]+\"epub\"\n",
    "        tmpl=\"/tmp/\"+f[:-3]+\"htm\"\n",
    "        !cp \"$l\" \"$tmpl\"\n",
    "        try:\n",
    "            !ebook-convert \"$tmpl\" \"$tmp\" >/dev/null\n",
    "            !rm \"$tmpl\"\n",
    "            !mv \"$tmp\" \"$ff\"\n",
    "        except:\n",
    "            os.remove(l)\n",
    "    \n",
    "    !mv \"$l\" \"$fh\"\n",
    " "
   ]
  },
  {
   "cell_type": "code",
   "execution_count": 32,
   "metadata": {
    "collapsed": false
   },
   "outputs": [
    {
     "name": "stdout",
     "output_type": "stream",
     "text": [
      "mv: cannot stat ‘/media/some/sophie-hhd/books/thrill/HammerDown.htm’: No such file or directory\n",
      "mv: cannot stat ‘/media/some/sophie-hhd/books/thrill/Phoenix Rising I - Morgana de Winter, Marie Harte, Michelle M. Pillow, Sherrill Quinn, Alicia Sparks.htm’: No such file or directory\n",
      "mv: cannot stat ‘/media/some/sophie-hhd/books/thrill/Asimov's - Winter Fire.htm’: No such file or directory\n",
      "mv: cannot stat ‘/media/some/sophie-hhd/books/thrill/Asimov's - Standing Room Only.htm’: No such file or directory\n",
      "mv: cannot stat ‘/media/some/sophie-hhd/books/thrill/ClaimMe.htm’: No such file or directory\n",
      "mv: cannot stat ‘/media/some/sophie-hhd/books/thrill/R.S.V.P. - Adair, Oh, Dunne.htm’: No such file or directory\n",
      "mv: cannot stat ‘/media/some/sophie-hhd/books/thrill/Relic - Ellen Ashe,Celia Ashley,Annalee Blysse,Tracy L Ranson.htm’: No such file or directory\n",
      "mv: cannot stat ‘/media/some/sophie-hhd/books/thrill/BoardResolution.htm’: No such file or directory\n",
      "mv: cannot stat ‘/media/some/sophie-hhd/books/thrill/SeduceMe.htm’: No such file or directory\n",
      "mv: cannot stat ‘/media/some/sophie-hhd/books/thrill/Lora Leigh - 71 novels/bound hearts/html/Leigh, Lora - Bound Hearts 8 - Forbidden Pleasure.htm’: No such file or directory\n",
      "('time: ', 418.9202210903168)\n"
     ]
    }
   ],
   "source": [
    "t0 = time.time()\n",
    "p = Pool(5)\n",
    "p.map(mvht, list(reversed(ls)))\n",
    "p.terminate()\n",
    "p.close()\n",
    "t1 = time.time()\n",
    "total = t1-t0\n",
    "print('time: ',total)"
   ]
  },
  {
   "cell_type": "code",
   "execution_count": 15,
   "metadata": {
    "collapsed": false
   },
   "outputs": [
    {
     "data": {
      "text/plain": [
       "('/media/some/sophie-hhd/books/thrill/Romance Novels',\n",
       " 'Georgette Heyer - The Grand Sophy (v2).htm')"
      ]
     },
     "execution_count": 15,
     "metadata": {},
     "output_type": "execute_result"
    }
   ],
   "source": [
    "os.path.split(ls[147])"
   ]
  },
  {
   "cell_type": "code",
   "execution_count": null,
   "metadata": {
    "collapsed": true
   },
   "outputs": [],
   "source": []
  }
 ],
 "metadata": {
  "kernelspec": {
   "display_name": "Python 2",
   "language": "python",
   "name": "python2"
  },
  "language_info": {
   "codemirror_mode": {
    "name": "ipython",
    "version": 2
   },
   "file_extension": ".py",
   "mimetype": "text/x-python",
   "name": "python",
   "nbconvert_exporter": "python",
   "pygments_lexer": "ipython2",
   "version": "2.7.10"
  }
 },
 "nbformat": 4,
 "nbformat_minor": 0
}
