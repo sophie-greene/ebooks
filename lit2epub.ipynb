{
 "cells": [
  {
   "cell_type": "code",
   "execution_count": 1,
   "metadata": {
    "collapsed": false
   },
   "outputs": [],
   "source": [
    "from ebooklib import utils\n",
    "import os\n",
    "from multiprocessing import Pool\n",
    "import time\n",
    "from bs4 import BeautifulSoup\n",
    "import urllib2\n",
    "import string"
   ]
  },
  {
   "cell_type": "markdown",
   "metadata": {},
   "source": [
    "## deals with lit, mobi, azw3\n"
   ]
  },
  {
   "cell_type": "code",
   "execution_count": 4,
   "metadata": {
    "collapsed": false
   },
   "outputs": [
    {
     "data": {
      "text/plain": [
       "130"
      ]
     },
     "execution_count": 4,
     "metadata": {},
     "output_type": "execute_result"
    }
   ],
   "source": [
    "d=\"/media/some/sophie-hhd/books/thrill\"\n",
    "ls=!find $d -type f -iname \"*.lit\" -o -iname \"*.chm\" -o -iname \"*.mobi\" -o -iname \"*.azw3\"\n",
    "len(ls)\n"
   ]
  },
  {
   "cell_type": "code",
   "execution_count": 29,
   "metadata": {
    "collapsed": false,
    "scrolled": true
   },
   "outputs": [],
   "source": [
    "def mvht(l):\n",
    "    ddir=\"/media/some/sophie-hhd/books/thrill/\"\n",
    "    m,f=os.path.split(l)\n",
    "    fn, fext = os.path.splitext(f)\n",
    "    \n",
    "    ff=ddir+fn+\".epub\"\n",
    "    fe=m+\"/\"+fn+\".epub\"\n",
    "    tmp=\"/tmp/\"+fn+\".epub\"\n",
    "    if not os.path.exists(ff) and not os.path.exists(fe): \n",
    "        try:\n",
    "            !ebook-convert \"$l\" \"$tmp\" >/dev/null\n",
    "            if os.path.exists(tmp):\n",
    "                !mv \"$tmp\" \"$ff\"\n",
    "        except:\n",
    "            print \"faulty   \",l\n",
    "    if os.path.exists(l):\n",
    "        os.remove(l)\n",
    "    print l"
   ]
  },
  {
   "cell_type": "code",
   "execution_count": 30,
   "metadata": {
    "collapsed": false
   },
   "outputs": [
    {
     "name": "stdout",
     "output_type": "stream",
     "text": [
      "/media/some/sophie-hhd/books/thrill/Francine Mathews - [Merry Folger 03] - Death in A Mood Indigo -v5.mobi\n"
     ]
    }
   ],
   "source": [
    "mvht(ls[0])"
   ]
  },
  {
   "cell_type": "code",
   "execution_count": 36,
   "metadata": {
    "collapsed": false,
    "scrolled": true
   },
   "outputs": [
    {
     "name": "stdout",
     "output_type": "stream",
     "text": [
      "/media/some/sophie-hhd/books/thrill/Wedding Tiers - Trisha Ashley.mobi\n",
      "/media/some/sophie-hhd/books/thrill/Winter's Tale, A - Trisha Ashley.mobi\n",
      "/media/some/sophie-hhd/books/thrill/Wish Upon a Star - Trisha Ashley.mobi\n",
      "/media/some/sophie-hhd/books/thrill/To Cut a Long Story Short (2000 - Jeffrey Archer.mobi\n",
      "/media/some/sophie-hhd/books/thrill/Rising Darkness - Cooke, Cynthia.mobi\n",
      "/media/some/sophie-hhd/books/thrill/The  Magic of Christmas - Trisha Ashley.mobi\n",
      "/media/some/sophie-hhd/books/thrill/A Quiver Full of Arrows - Jeffrey Archer.mobi\n",
      "/media/some/sophie-hhd/books/thrill/A Prisoner of Birth - Jeffrey Archer.mobi\n",
      "/media/some/sophie-hhd/books/thrill/Only Time Will Tell (2011) - Jeffrey Archer.mobi\n",
      "/media/some/sophie-hhd/books/thrill/Twelve Days of Christmas - Trisha Ashley.mobi\n",
      "/media/some/sophie-hhd/books/thrill/Chocolate Wishes - Trisha Ashley.mobi\n",
      "/media/some/sophie-hhd/books/thrill/The Fourth Estate - Jeffrey Archer.mobi\n",
      "/media/some/sophie-hhd/books/thrill/Touch of the Wolf - Whiddon, Karen.mobi\n",
      "/media/some/sophie-hhd/books/thrill/Damned - Childs, Lisa.mobi\n",
      "/media/some/sophie-hhd/books/thrill/Good Husband Material - Trisha Ashley.mobi\n",
      "/media/some/sophie-hhd/books/thrill/Chocolate Shoes and Wedding Blues - Trisha Ashley.mobi\n",
      "/media/some/sophie-hhd/books/thrill/Sowing Secrets - Trisha Ashley.mobi\n",
      "('time: ', 1.2743701934814453)\n"
     ]
    }
   ],
   "source": [
    "t0 = time.time()\n",
    "p = Pool(8)\n",
    "p.map(mvht, ls)\n",
    "p.terminate()\n",
    "p.close()\n",
    "t1 = time.time()\n",
    "total = t1-t0\n",
    "print('time: ',total)"
   ]
  },
  {
   "cell_type": "code",
   "execution_count": null,
   "metadata": {
    "collapsed": true
   },
   "outputs": [],
   "source": [
    "#verify epubs\n",
    "d='/media/some/sophie-hdd/books'\n",
    "lst=! find \"$d\" -iname \"*.epub\""
   ]
  }
 ],
 "metadata": {
  "kernelspec": {
   "display_name": "Python 2",
   "language": "python",
   "name": "python2"
  },
  "language_info": {
   "codemirror_mode": {
    "name": "ipython",
    "version": 2
   },
   "file_extension": ".py",
   "mimetype": "text/x-python",
   "name": "python",
   "nbconvert_exporter": "python",
   "pygments_lexer": "ipython2",
   "version": "2.7.10"
  }
 },
 "nbformat": 4,
 "nbformat_minor": 0
}
