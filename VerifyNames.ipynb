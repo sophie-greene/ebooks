{
 "cells": [
  {
   "cell_type": "code",
   "execution_count": 34,
   "metadata": {
    "collapsed": false
   },
   "outputs": [],
   "source": [
    "from ebooklib import epub\n",
    "import os\n",
    "from multiprocessing import Pool\n",
    "import time\n",
    "from bs4 import BeautifulSoup\n",
    "import urllib2\n",
    "import string"
   ]
  },
  {
   "cell_type": "code",
   "execution_count": null,
   "metadata": {
    "collapsed": true
   },
   "outputs": [],
   "source": []
  },
  {
   "cell_type": "markdown",
   "metadata": {},
   "source": [
    "## deals with lit, mobi, azw3\n"
   ]
  },
  {
   "cell_type": "code",
   "execution_count": 154,
   "metadata": {
    "collapsed": false
   },
   "outputs": [
    {
     "data": {
      "text/plain": [
       "150"
      ]
     },
     "execution_count": 154,
     "metadata": {},
     "output_type": "execute_result"
    }
   ],
   "source": [
    "d=\"/media/some/sophie-hhd/books/rtf/\"\n",
    "ls=!find $d -type f -iname \"*.epub\"  #-o -iname \"*.chm\" -o -iname \"*.lit\" -o -iname \"*.azw3\"\n",
    "len(ls)"
   ]
  },
  {
   "cell_type": "code",
   "execution_count": 151,
   "metadata": {
    "collapsed": false
   },
   "outputs": [],
   "source": [
    "f=ls[1]\n",
    "meta=!exiftool \"$f\""
   ]
  },
  {
   "cell_type": "code",
   "execution_count": 152,
   "metadata": {
    "collapsed": false
   },
   "outputs": [
    {
     "data": {
      "text/plain": [
       "{'Creator': 'Unknown',\n",
       " 'Directory': '/media/some/sophie-hhd/books/rtf',\n",
       " 'ExifTool Version Number': '10.00',\n",
       " 'File Access Date/Time': '2016:05:28 20:39:14+01:00',\n",
       " 'File Inode Change Date/Time': '2016:05:28 20:39:14+01:00',\n",
       " 'File Modification Date/Time': '2016:05:28 20:39:14+01:00',\n",
       " 'File Name': '03 Beverly Barton - The Outcast 03.epub',\n",
       " 'File Permissions': 'rwxrwxrwx',\n",
       " 'File Size': '214 kB',\n",
       " 'File Type': 'EPUB',\n",
       " 'File Type Extension': 'epub',\n",
       " 'Guide Reference Href': 'titlepage.xhtml',\n",
       " 'Guide Reference Title': 'Title Page',\n",
       " 'Guide Reference Type': 'cover',\n",
       " 'Identifier': 'f5c237ce-3fbc-49e4-8bbe-788fde320046',\n",
       " 'Identifier Id': 'uuid_id',\n",
       " 'Identifier Scheme': 'uuid',\n",
       " 'Language': 'en',\n",
       " 'MIME Type': 'application/epub+zip',\n",
       " 'Manifest Item Href': 'toc.ncx',\n",
       " 'Manifest Item Id': 'ncx',\n",
       " 'Manifest Item Media-type': 'application/x-dtbncx+xml',\n",
       " 'Meta': '2016:05:28 20:39:14Z',\n",
       " 'Meta Content': 'cover',\n",
       " 'Meta Name': 'cover',\n",
       " 'Meta Property': 'dcterms:modified',\n",
       " 'Spine Itemref Idref': 'html1',\n",
       " 'Spine Toc': 'ncx',\n",
       " 'Timestamp Content': '2016:05:27 16:19:08.541937+00:00',\n",
       " 'Timestamp Name': 'calibre:timestamp',\n",
       " 'Title': '03 Beverly Barton - The Outcast 03'}"
      ]
     },
     "execution_count": 152,
     "metadata": {},
     "output_type": "execute_result"
    }
   ],
   "source": [
    "metad={m.split(\" : \")[0].strip():m.split(\" : \")[1].strip() for m in meta }\n",
    "metad"
   ]
  },
  {
   "cell_type": "code",
   "execution_count": 70,
   "metadata": {
    "collapsed": false,
    "scrolled": true
   },
   "outputs": [
    {
     "name": "stdout",
     "output_type": "stream",
     "text": [
      "Jeffery Deaver-The Skin Collector.epub\n",
      "Jeffery Deaver [Lincoln Rhyme 11.0] - The Skin Collector.epub\n"
     ]
    }
   ],
   "source": [
    "print metad['Creator']+\"-\"+metad['Title']+\".epub\"\n",
    "print metad[\"File Name\"]"
   ]
  },
  {
   "cell_type": "code",
   "execution_count": 127,
   "metadata": {
    "collapsed": false
   },
   "outputs": [],
   "source": [
    "key='http://purl.org/dc/elements/1.1/'\n",
    "book=epub.read_epub(f)\n"
   ]
  },
  {
   "cell_type": "code",
   "execution_count": 128,
   "metadata": {
    "collapsed": false
   },
   "outputs": [],
   "source": [
    "metadata=book.metadata[key]"
   ]
  },
  {
   "cell_type": "code",
   "execution_count": 145,
   "metadata": {
    "collapsed": false
   },
   "outputs": [
    {
     "name": "stdout",
     "output_type": "stream",
     "text": [
      "The Twelve \n",
      "Book Two of The Passage Trilogy\n"
     ]
    }
   ],
   "source": [
    "fn=os.path.basename(f)\n",
    "m=fn[:-5].split(\"-\")\n",
    "series=extract(metadata[\"creator\"][0][0],m[0] )\n",
    "if len(series)>4:\n",
    "    if \"series\" not in book.metadata[key].keys():\n",
    "        book.metadata[key]['series']=[(series,{})]\n",
    "    else:\n",
    "        book.metadata[key]['series'].append((series,{}))\n",
    "series=extract(metadata[\"creator\"][0][0],m[1] )\n",
    "if len(series)>4:\n",
    "    if \"series\" not in book.metadata[key].keys():\n",
    "        book.metadata[key]['series']=[(series,{})]\n",
    "    else:\n",
    "        book.metadata[key]['series'].append((series,{}))\n",
    "series=extract(metadata[\"title\"][0][0],m[0] )\n",
    "if len(series)>4:\n",
    "    if \"series\" not in book.metadata[key].keys():\n",
    "        book.metadata[key]['series']=[(series,{})]\n",
    "    else:\n",
    "        book.metadata[key]['series'].append((series,{}))\n",
    "series=extract(metadata[\"title\"][0][0],m[1] )\n",
    "if len(series)>4:\n",
    "    if \"series\" not in book.metadata[key].keys():\n",
    "        book.metadata[key]['series']=[(series,{})]\n",
    "    else:\n",
    "        book.metadata[key]['series'].append((series,{}))\n",
    "if book.metadata[key]['title'][0][0].count(\"(\")>0:\n",
    "    tit=book.metadata[key]['title'][0][0].split(\"(\")\n",
    "    if len(' '.join(tit[0].split()))>4:\n",
    "        title=' '.join(tit[0].split())\n",
    "        series=tit[1].split(\")\")[0]\n",
    "        #print title,\"\\n\", series\n",
    "    if len(series)>4:\n",
    "        if \"series\" not in book.metadata[key].keys():\n",
    "            book.metadata[key]['series']=[(series,{})]\n",
    "        else:\n",
    "            book.metadata[key]['series'].append((series,{}))\n",
    "if book.metadata[key]['title'][0][0].count(\"[\")>0:\n",
    "    tit=book.metadata[key]['title'][0][0].split(\"[\")\n",
    "    if len(' '.join(tit[0].split()))>4:\n",
    "        title=' '.join(tit[0].split())\n",
    "        series=tit[1].split(\"]\")[0]\n",
    "        #print title,\"\\n\", series\n",
    "    if len(series)>4:\n",
    "        if \"series\" not in book.metadata[key].keys():\n",
    "            book.metadata[key]['series']=[(series,{})]\n",
    "        else:\n",
    "            book.metadata[key]['series'].append((series,{}))\n",
    "if book.metadata[key]['title'][0][0].count(\"{\")>0:\n",
    "    tit=book.metadata[key]['title'][0][0].split(\"{\")\n",
    "    if len(' '.join(tit[0].split()))>4:\n",
    "        title=' '.join(tit[0].split())\n",
    "        series=tit[1].split(\"}\")[0]\n",
    "        #print title,\"\\n\", series\n",
    "    if len(series)>4:\n",
    "        if \"series\" not in book.metadata[key].keys():\n",
    "            book.metadata[key]['series']=[(series,{})]\n",
    "        else:\n",
    "            book.metadata[key]['series'].append((series,{}))"
   ]
  },
  {
   "cell_type": "code",
   "execution_count": 146,
   "metadata": {
    "collapsed": false
   },
   "outputs": [
    {
     "data": {
      "text/plain": [
       "[('Book Two of The Passage Trilogy', {})]"
      ]
     },
     "execution_count": 146,
     "metadata": {},
     "output_type": "execute_result"
    }
   ],
   "source": [
    "book.metadata[key]['series']"
   ]
  },
  {
   "cell_type": "code",
   "execution_count": 97,
   "metadata": {
    "collapsed": false
   },
   "outputs": [],
   "source": [
    "#find the difference between a and b given that a is in b\n",
    "#a=\" [Lincoln Jeffery Deaver Rhyme 11.0] \"\n",
    "#b=\"Jeffery Deaver\"\n",
    "#output [lincoln rhyme 11.0]\n",
    "def extract(a,b):\n",
    "    if a.count(b)>0 and a.strip().lower() !=b.strip().lower():\n",
    "        s=a[:a.index(b)]+a[a.index(b)+len(b):]\n",
    "        return ' '.join(s.split()).title()\n",
    "    elif b.count(a)>0 and b.strip().lower() !=a.strip().lower():\n",
    "        s=b[:b.index(a)]+b[b.index(a)+len(a):]\n",
    "        return ' '.join(s.split()).title()\n",
    "    else:\n",
    "        return \"\""
   ]
  },
  {
   "cell_type": "code",
   "execution_count": 75,
   "metadata": {
    "collapsed": false
   },
   "outputs": [
    {
     "data": {
      "text/plain": [
       "'Jeffery Deaver-The Skin Collector.epub'"
      ]
     },
     "execution_count": 75,
     "metadata": {},
     "output_type": "execute_result"
    }
   ],
   "source": [
    "metadata[\"creator\"][0][0]+\"-\"+metadata[\"title\"][0][0]+\".epub\""
   ]
  },
  {
   "cell_type": "code",
   "execution_count": 26,
   "metadata": {
    "collapsed": false,
    "scrolled": true
   },
   "outputs": [],
   "source": [
    "def mvht(l):\n",
    "    ddir=\"/media/some/sophie-hhd/books/thrill/\"\n",
    "    m,f=os.path.split(l)\n",
    "    fn, fext = os.path.splitext(f)\n",
    "    \n",
    "    ff=ddir+fn+\".epub\"\n",
    "    fe=m+\"/\"+fn+\".epub\"\n",
    "    tmp=\"/tmp/\"+fn+\".epub\"\n",
    "    if not os.path.exists(ff) and not os.path.exists(fe): \n",
    "        try:\n",
    "            !ebook-convert \"$l\" \"$tmp\" >/dev/null\n",
    "            \n",
    "            if os.path.exists(tmp):\n",
    "                res=verifye(tmp)\n",
    "                if res[1] == \"OK\":\n",
    "                    !mv \"$tmp\" \"$ff\"\n",
    "                else:\n",
    "                    print \"invalid ..\",l,res\n",
    "                    os.remove(tmp)\n",
    "                #os.remove(l)\n",
    "        except:\n",
    "            print \"faulty   \",l\n",
    "    #if os.path.exists(l):\n",
    "        os.remove(l)\n",
    "    #print l"
   ]
  },
  {
   "cell_type": "code",
   "execution_count": null,
   "metadata": {
    "collapsed": true
   },
   "outputs": [],
   "source": []
  },
  {
   "cell_type": "code",
   "execution_count": 21,
   "metadata": {
    "collapsed": false
   },
   "outputs": [],
   "source": []
  },
  {
   "cell_type": "code",
   "execution_count": 25,
   "metadata": {
    "collapsed": false,
    "scrolled": true
   },
   "outputs": [
    {
     "name": "stdout",
     "output_type": "stream",
     "text": [
      "mv: cannot move ‘/tmp/Murder in the Cake - Chase, Kennedy.epub’ to ‘/media/some/sophie-hhd/books/thrill/Murder in the Cake - Chase, Kennedy.epub’: No such file or directory\n",
      "mv: cannot move ‘/tmp/10 Vampire Mine - Sparks, Kerrelyn.epub’ to ‘/media/some/sophie-hhd/books/thrill/10 Vampire Mine - Sparks, Kerrelyn.epub’: No such file or directory\n",
      "mv: cannot move ‘/tmp/Crazy Love You - Unger, Lisa.epub’ to ‘/media/some/sophie-hhd/books/thrill/Crazy Love You - Unger, Lisa.epub’: No such file or directory\n",
      "mv: failed to access ‘/media/some/sophie-hhd/books/thrill/Book of Life, The - Harkness, Deborah.epub’: Permission denied\n",
      "mv: failed to access ‘/media/some/sophie-hhd/books/thrill/In the Dark of Dreams (DS10) - Liu, Marjorie M_.epub’: Permission denied\n",
      "Traceback (most recent call last):\n",
      "  File \"/usr/bin/ebook-convert\", line 20, in <module>\n",
      "    sys.exit(main())\n",
      "  File \"/usr/lib/calibre/calibre/ebooks/conversion/cli.py\", line 360, in main\n",
      "    plumber.run()\n",
      "  File \"/usr/lib/calibre/calibre/ebooks/conversion/plumber.py\", line 1027, in run\n",
      "    open(self.input, 'rb')\n",
      "IOError: [Errno 2] No such file or directory: u'/media/some/sophie-hhd/books/mobi/Sudden Death - Enrigue, Alvaro.mobi'\n",
      "mv: failed to access ‘/media/some/sophie-hhd/books/thrill/How to Sleep with the Boss - Maynard, Janice.epub’: Permission denied\n",
      "Traceback (most recent call last):\n",
      "  File \"/usr/bin/ebook-convert\", line 20, in <module>\n",
      "    sys.exit(main())\n",
      "  File \"/usr/lib/calibre/calibre/ebooks/conversion/cli.py\", line 360, in main\n",
      "    plumber.run()\n",
      "  File \"/usr/lib/calibre/calibre/ebooks/conversion/plumber.py\", line 1027, in run\n",
      "    open(self.input, 'rb')\n",
      "IOError: [Errno 2] No such file or directory: u'/media/some/sophie-hhd/books/mobi/6.5 Guardian - Mayer, Shannon.mobi'\n",
      "mv: cannot move ‘/tmp/Mate for Griffin, A - Hartnady, Charlene.epub’ to ‘/media/some/sophie-hhd/books/thrill/Mate for Griffin, A - Hartnady, Charlene.epub’: No such file or directory\n",
      "mv: cannot move ‘/tmp/Blood Trade (JY 6) - Hunter, Faith.epub’ to ‘/media/some/sophie-hhd/books/thrill/Blood Trade (JY 6) - Hunter, Faith.epub’: No such file or directory\n",
      "mv: cannot move ‘/tmp/Sentinel 5 - Armentrout, Jennifer L_.epub’ to ‘/media/some/sophie-hhd/books/thrill/Sentinel 5 - Armentrout, Jennifer L_.epub’: No such file or directory\n",
      "mv: cannot move ‘/tmp/74 Immortal Wolf - Vanak, Bonnie.epub’ to ‘/media/some/sophie-hhd/books/thrill/74 Immortal Wolf - Vanak, Bonnie.epub’: No such file or directory\n",
      "Traceback (most recent call last):\n",
      "  File \"/usr/bin/ebook-convert\", line 20, in <module>\n",
      "    sys.exit(main())\n",
      "  File \"/usr/lib/calibre/calibre/ebooks/conversion/cli.py\", line 360, in main\n",
      "    plumber.run()\n",
      "  File \"/usr/lib/calibre/calibre/ebooks/conversion/plumber.py\", line 1027, in run\n",
      "    open(self.input, 'rb')\n",
      "IOError: [Errno 13] Permission denied: u'/media/some/sophie-hhd/books/mobi/Passion Untamed (FW3) - Palmer, Pamela.mobi'\n",
      "Traceback (most recent call last):\n",
      "  File \"/usr/bin/ebook-convert\", line 20, in <module>\n",
      "    sys.exit(main())\n",
      "  File \"/usr/lib/calibre/calibre/ebooks/conversion/cli.py\", line 360, in main\n",
      "    plumber.run()\n",
      "  File \"/usr/lib/calibre/calibre/ebooks/conversion/plumber.py\", line 1027, in run\n",
      "    open(self.input, 'rb')\n",
      "IOError: [Errno 13] Permission denied: u'/media/some/sophie-hhd/books/mobi/Tycoon Takedown - Cardello, Ruth.mobi'\n",
      "Traceback (most recent call last):\n",
      "  File \"/usr/bin/ebook-convert\", line 20, in <module>\n",
      "    sys.exit(main())\n",
      "  File \"/usr/lib/calibre/calibre/ebooks/conversion/cli.py\", line 360, in main\n",
      "    plumber.run()\n",
      "  File \"/usr/lib/calibre/calibre/ebooks/conversion/plumber.py\", line 1027, in run\n",
      "    open(self.input, 'rb')\n",
      "IOError: [Errno 13] Permission denied: u'/media/some/sophie-hhd/books/mobi/8 Accidental Werewolf 2_ Something mal Novel), The - Cassidy, Dakota.mobi'\n",
      "Traceback (most recent call last):\n",
      "  File \"/usr/bin/ebook-convert\", line 20, in <module>\n",
      "    sys.exit(main())\n",
      "  File \"/usr/lib/calibre/calibre/ebooks/conversion/cli.py\", line 360, in main\n",
      "    plumber.run()\n",
      "  File \"/usr/lib/calibre/calibre/ebooks/conversion/plumber.py\", line 1027, in run\n",
      "    open(self.input, 'rb')\n",
      "IOError: [Errno 13] Permission denied: u'/media/some/sophie-hhd/books/mobi/7 Backstage Stuff - Fiffer, Sharon.mobi'\n",
      "Traceback (most recent call last):\n",
      "  File \"/usr/bin/ebook-convert\", line 20, in <module>\n",
      "    sys.exit(main())\n",
      "  File \"/usr/lib/calibre/calibre/ebooks/conversion/cli.py\", line 360, in main\n",
      "    plumber.run()\n",
      "  File \"/usr/lib/calibre/calibre/ebooks/conversion/plumber.py\", line 1027, in run\n",
      "    open(self.input, 'rb')\n",
      "IOError: [Errno 13] Permission denied: u'/media/some/sophie-hhd/books/mobi/167 Releasing the Hunter - Anna, Vivi.mobi'\n",
      "Traceback (most recent call last):\n",
      "  File \"/usr/bin/ebook-convert\", line 20, in <module>\n",
      "    sys.exit(main())\n",
      "  File \"/usr/lib/calibre/calibre/ebooks/conversion/cli.py\", line 360, in main\n",
      "    plumber.run()\n",
      "  File \"/usr/lib/calibre/calibre/ebooks/conversion/plumber.py\", line 1027, in run\n",
      "    open(self.input, 'rb')\n",
      "IOError: [Errno 13] Permission denied: u'/media/some/sophie-hhd/books/mobi/9 Rising Darkness - Mayer, Shannon.mobi'\n",
      "Traceback (most recent call last):\n",
      "  File \"/usr/bin/ebook-convert\", line 20, in <module>\n",
      "    sys.exit(main())\n",
      "  File \"/usr/lib/calibre/calibre/ebooks/conversion/cli.py\", line 360, in main\n",
      "    plumber.run()\n",
      "  File \"/usr/lib/calibre/calibre/ebooks/conversion/plumber.py\", line 1027, in run\n",
      "    open(self.input, 'rb')\n",
      "IOError: [Errno 13] Permission denied: u'/media/some/sophie-hhd/books/mobi/Sexy Addiction - Trent, Emily Jane.mobi'\n",
      "mv: cannot move ‘/tmp/By Slanderous Tongues (DE 3) - Gellis, Roberta & Lackey, Mercedes.epub’ to ‘/media/some/sophie-hhd/books/thrill/By Slanderous Tongues (DE 3) - Gellis, Roberta & Lackey, Mercedes.epub’: No such file or directory\n",
      "('time: ', 16738.911936998367)\n"
     ]
    }
   ],
   "source": [
    "t0 = time.time()\n",
    "p = Pool(8)\n",
    "p.map(mvht, ls)\n",
    "p.terminate()\n",
    "p.close()\n",
    "t1 = time.time()\n",
    "total = t1-t0\n",
    "print('time: ',total)"
   ]
  },
  {
   "cell_type": "code",
   "execution_count": 7,
   "metadata": {
    "collapsed": true
   },
   "outputs": [],
   "source": [
    "def verifye(f):\n",
    "    m,ff=os.path.split(f)\n",
    "    try:\n",
    "        if os.path.exists(f):  \n",
    "            book=epub.read_epub(f)\n",
    "            os.remove(f)\n",
    "            epub.write_epub(f,book)\n",
    "            return (f,\"OK\")\n",
    "        else:\n",
    "            return (f,\"DOESNT EXIST\")\n",
    "            #print \"file  ...\" ,ff,\" ...... verified\"\n",
    "    except:\n",
    "        #print \"file corrupt ...\" ,ff,\" ...... deleting\"\n",
    "        #os.remove(f)\n",
    "        return (f,\"NOT OK\")"
   ]
  },
  {
   "cell_type": "code",
   "execution_count": 20,
   "metadata": {
    "collapsed": false
   },
   "outputs": [
    {
     "data": {
      "text/plain": [
       "<ebooklib.epub.EpubBook at 0x7f951494a950>"
      ]
     },
     "execution_count": 20,
     "metadata": {},
     "output_type": "execute_result"
    }
   ],
   "source": []
  },
  {
   "cell_type": "code",
   "execution_count": null,
   "metadata": {
    "collapsed": true
   },
   "outputs": [],
   "source": [
    "4"
   ]
  }
 ],
 "metadata": {
  "kernelspec": {
   "display_name": "Python 2",
   "language": "python",
   "name": "python2"
  },
  "language_info": {
   "codemirror_mode": {
    "name": "ipython",
    "version": 2
   },
   "file_extension": ".py",
   "mimetype": "text/x-python",
   "name": "python",
   "nbconvert_exporter": "python",
   "pygments_lexer": "ipython2",
   "version": "2.7.10"
  }
 },
 "nbformat": 4,
 "nbformat_minor": 0
}
