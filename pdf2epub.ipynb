{
 "cells": [
  {
   "cell_type": "code",
   "execution_count": 1,
   "metadata": {
    "collapsed": false
   },
   "outputs": [],
   "source": [
    "from ebooklib import utils\n",
    "import os\n",
    "from multiprocessing import Pool\n",
    "import time\n",
    "from bs4 import BeautifulSoup\n",
    "import urllib2\n",
    "import string\n",
    "from pdfrw import PdfReader, PdfWriter"
   ]
  },
  {
   "cell_type": "markdown",
   "metadata": {},
   "source": [
    "## deals with pdf\n"
   ]
  },
  {
   "cell_type": "code",
   "execution_count": 4,
   "metadata": {
    "collapsed": false
   },
   "outputs": [
    {
     "data": {
      "text/plain": [
       "130"
      ]
     },
     "execution_count": 4,
     "metadata": {},
     "output_type": "execute_result"
    }
   ],
   "source": [
    "d=\"/media/some/sophie-hhd/books/thrill\"\n",
    "ls=!find $d -type f -iname \"*.pdf\" \n",
    "len(ls)\n"
   ]
  },
  {
   "cell_type": "code",
   "execution_count": 29,
   "metadata": {
    "collapsed": false,
    "scrolled": true
   },
   "outputs": [],
   "source": [
    "def mvht(l):\n",
    "    ddir=\"/media/some/sophie-hhd/books/thrill/\"\n",
    "    m,f=os.path.split(l)\n",
    "    fn, fext = os.path.splitext(f)\n",
    "    \n",
    "    ff=ddir+fn+\".epub\"\n",
    "    fe=m+\"/\"+fn+\".epub\"\n",
    "    tmp=\"/tmp/\"+fn+\".epub\"\n",
    "    if not os.path.exists(ff) and not os.path.exists(fe): \n",
    "        try:\n",
    "            !ebook-convert \"$l\" \"$tmp\" >/dev/null\n",
    "            if os.path.exists(tmp):\n",
    "                !mv \"$tmp\" \"$ff\"\n",
    "        except:\n",
    "            print \"faulty   \",l\n",
    "    if os.path.exists(l):\n",
    "        os.remove(l)\n",
    "    print l"
   ]
  },
  {
   "cell_type": "code",
   "execution_count": 30,
   "metadata": {
    "collapsed": false
   },
   "outputs": [
    {
     "name": "stdout",
     "output_type": "stream",
     "text": [
      "/media/some/sophie-hhd/books/thrill/Francine Mathews - [Merry Folger 03] - Death in A Mood Indigo -v5.mobi\n"
     ]
    }
   ],
   "source": [
    "mvht(ls[0])"
   ]
  },
  {
   "cell_type": "code",
   "execution_count": 36,
   "metadata": {
    "collapsed": false,
    "scrolled": true
   },
   "outputs": [
    {
     "name": "stdout",
     "output_type": "stream",
     "text": [
      "/media/some/sophie-hhd/books/thrill/Wedding Tiers - Trisha Ashley.mobi\n",
      "/media/some/sophie-hhd/books/thrill/Winter's Tale, A - Trisha Ashley.mobi\n",
      "/media/some/sophie-hhd/books/thrill/Wish Upon a Star - Trisha Ashley.mobi\n",
      "/media/some/sophie-hhd/books/thrill/To Cut a Long Story Short (2000 - Jeffrey Archer.mobi\n",
      "/media/some/sophie-hhd/books/thrill/Rising Darkness - Cooke, Cynthia.mobi\n",
      "/media/some/sophie-hhd/books/thrill/The  Magic of Christmas - Trisha Ashley.mobi\n",
      "/media/some/sophie-hhd/books/thrill/A Quiver Full of Arrows - Jeffrey Archer.mobi\n",
      "/media/some/sophie-hhd/books/thrill/A Prisoner of Birth - Jeffrey Archer.mobi\n",
      "/media/some/sophie-hhd/books/thrill/Only Time Will Tell (2011) - Jeffrey Archer.mobi\n",
      "/media/some/sophie-hhd/books/thrill/Twelve Days of Christmas - Trisha Ashley.mobi\n",
      "/media/some/sophie-hhd/books/thrill/Chocolate Wishes - Trisha Ashley.mobi\n",
      "/media/some/sophie-hhd/books/thrill/The Fourth Estate - Jeffrey Archer.mobi\n",
      "/media/some/sophie-hhd/books/thrill/Touch of the Wolf - Whiddon, Karen.mobi\n",
      "/media/some/sophie-hhd/books/thrill/Damned - Childs, Lisa.mobi\n",
      "/media/some/sophie-hhd/books/thrill/Good Husband Material - Trisha Ashley.mobi\n",
      "/media/some/sophie-hhd/books/thrill/Chocolate Shoes and Wedding Blues - Trisha Ashley.mobi\n",
      "/media/some/sophie-hhd/books/thrill/Sowing Secrets - Trisha Ashley.mobi\n",
      "('time: ', 1.2743701934814453)\n"
     ]
    }
   ],
   "source": [
    "t0 = time.time()\n",
    "p = Pool(8)\n",
    "p.map(mvht, ls)\n",
    "p.terminate()\n",
    "p.close()\n",
    "t1 = time.time()\n",
    "total = t1-t0\n",
    "print('time: ',total)"
   ]
  },
  {
   "cell_type": "code",
   "execution_count": 51,
   "metadata": {
    "collapsed": false
   },
   "outputs": [
    {
     "data": {
      "text/plain": [
       "4302"
      ]
     },
     "execution_count": 51,
     "metadata": {},
     "output_type": "execute_result"
    }
   ],
   "source": [
    "#verify epubs\n",
    "d='/media/some/sophie-hhd/books/thrill'\n",
    "l=! find \"$d\" -type f  -iname \"*.pdf\" #-mtime -1\n",
    "len(l)\n",
    "len"
   ]
  },
  {
   "cell_type": "code",
   "execution_count": 52,
   "metadata": {
    "collapsed": false
   },
   "outputs": [
    {
     "data": {
      "text/plain": [
       "2008"
      ]
     },
     "execution_count": 52,
     "metadata": {},
     "output_type": "execute_result"
    }
   ],
   "source": [
    "len(lst)"
   ]
  },
  {
   "cell_type": "code",
   "execution_count": 40,
   "metadata": {
    "collapsed": true
   },
   "outputs": [],
   "source": [
    "def verifye(f):\n",
    "    m,ff=os.path.split(f)\n",
    "    try:\n",
    "        if os.path.exists(f):  \n",
    "            pdf=PdfReader(f)\n",
    "            os.remove(f)\n",
    "            PdfWriter().write(f, pdf)\n",
    "            return (f,\"OK\")\n",
    "        else:\n",
    "            return (f,\"DOESNT EXIST\")\n",
    "            #print \"file  ...\" ,ff,\" ...... verified\"\n",
    "    except:\n",
    "        #print \"file corrupt ...\" ,ff,\" ...... deleting\"\n",
    "        #os.remove(f)\n",
    "        return (f,\"NOT OK\")"
   ]
  },
  {
   "cell_type": "code",
   "execution_count": 15,
   "metadata": {
    "collapsed": false
   },
   "outputs": [
    {
     "data": {
      "text/plain": [
       "('/media/some/sophie-hhd/books/thrill/0-Graph-ielts-writing.pdf', 'OK')"
      ]
     },
     "execution_count": 15,
     "metadata": {},
     "output_type": "execute_result"
    }
   ],
   "source": [
    "verifye(lst[0])"
   ]
  },
  {
   "cell_type": "code",
   "execution_count": null,
   "metadata": {
    "collapsed": false
   },
   "outputs": [],
   "source": [
    "t0 = time.time()\n",
    "p = Pool(30)\n",
    "m=map(verifye, lst)\n",
    "p.terminate()\n",
    "p.close()\n",
    "t1 = time.time()\n",
    "total = t1-t0\n",
    "print('time: ',total)"
   ]
  },
  {
   "cell_type": "code",
   "execution_count": null,
   "metadata": {
    "collapsed": false
   },
   "outputs": [],
   "source": [
    "cnt=0\n",
    "for l in m:\n",
    "    if l != None and l[1] ==\"NOT OK\":\n",
    "        cnt+=1\n",
    "        \n",
    "        #os.remove(l[0])\n",
    "cnt"
   ]
  },
  {
   "cell_type": "code",
   "execution_count": 48,
   "metadata": {
    "collapsed": false
   },
   "outputs": [
    {
     "data": {
      "text/plain": [
       "2106"
      ]
     },
     "execution_count": 48,
     "metadata": {},
     "output_type": "execute_result"
    }
   ],
   "source": [
    "len(ls)"
   ]
  },
  {
   "cell_type": "code",
   "execution_count": null,
   "metadata": {
    "collapsed": true
   },
   "outputs": [],
   "source": []
  }
 ],
 "metadata": {
  "kernelspec": {
   "display_name": "Python 2",
   "language": "python",
   "name": "python2"
  },
  "language_info": {
   "codemirror_mode": {
    "name": "ipython",
    "version": 2
   },
   "file_extension": ".py",
   "mimetype": "text/x-python",
   "name": "python",
   "nbconvert_exporter": "python",
   "pygments_lexer": "ipython2",
   "version": "2.7.10"
  }
 },
 "nbformat": 4,
 "nbformat_minor": 0
}
